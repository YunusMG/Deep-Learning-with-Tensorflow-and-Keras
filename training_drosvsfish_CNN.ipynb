{
 "cells": [
  {
   "cell_type": "code",
   "execution_count": 6,
   "metadata": {},
   "outputs": [
    {
     "name": "stdout",
     "output_type": "stream",
     "text": [
      "Train on 361 samples, validate on 156 samples\n",
      "Epoch 1/10\n",
      "361/361 [==============================] - 2s 6ms/step - loss: 0.5883 - acc: 0.6620 - val_loss: 0.4750 - val_acc: 0.7628\n",
      "Epoch 2/10\n",
      "361/361 [==============================] - 2s 6ms/step - loss: 0.5317 - acc: 0.7507 - val_loss: 0.5242 - val_acc: 0.7372\n",
      "Epoch 3/10\n",
      "361/361 [==============================] - 2s 6ms/step - loss: 0.4886 - acc: 0.7839 - val_loss: 0.4773 - val_acc: 0.7628\n",
      "Epoch 4/10\n",
      "361/361 [==============================] - 2s 6ms/step - loss: 0.4219 - acc: 0.8366 - val_loss: 0.4513 - val_acc: 0.8141\n",
      "Epoch 5/10\n",
      "361/361 [==============================] - 2s 5ms/step - loss: 0.3867 - acc: 0.8449 - val_loss: 0.4824 - val_acc: 0.7949\n",
      "Epoch 6/10\n",
      "361/361 [==============================] - 2s 6ms/step - loss: 0.3312 - acc: 0.8615 - val_loss: 0.4641 - val_acc: 0.8013\n",
      "Epoch 7/10\n",
      "361/361 [==============================] - 2s 6ms/step - loss: 0.2832 - acc: 0.9030 - val_loss: 0.4369 - val_acc: 0.8141\n",
      "Epoch 8/10\n",
      "361/361 [==============================] - 2s 5ms/step - loss: 0.2287 - acc: 0.9224 - val_loss: 0.4919 - val_acc: 0.7885\n",
      "Epoch 9/10\n",
      "361/361 [==============================] - 2s 5ms/step - loss: 0.2079 - acc: 0.9335 - val_loss: 0.5925 - val_acc: 0.7756\n",
      "Epoch 10/10\n",
      "361/361 [==============================] - 2s 5ms/step - loss: 0.1822 - acc: 0.9169 - val_loss: 0.5251 - val_acc: 0.8205\n"
     ]
    }
   ],
   "source": [
    "import tensorflow as tf\n",
    "from tensorflow.keras.datasets import cifar10\n",
    "from tensorflow.keras.preprocessing.image import ImageDataGenerator\n",
    "from tensorflow.keras.models import Sequential\n",
    "from tensorflow.keras.layers import Dense, Dropout, Activation, Flatten\n",
    "from tensorflow.keras.layers import Conv2D, MaxPooling2D\n",
    "from tensorflow.keras.callbacks import TensorBoard\n",
    "\n",
    "import pickle\n",
    "\n",
    "NAME = \"Droso-vs-fish-CNN\"\n",
    "\n",
    "pickle_in = open(\"D.pickle\",\"rb\")\n",
    "\n",
    "X = pickle.load(pickle_in)\n",
    "\n",
    "pickle_in = open(\"f.pickle\",\"rb\")\n",
    "y = pickle.load(pickle_in)\n",
    "\n",
    "X = X/255.0\n",
    "\n",
    "model = Sequential()\n",
    "model.add(Conv2D(64, (3,3), input_shape = X.shape[1:]))\n",
    "model.add(Activation('relu'))\n",
    "model.add(MaxPooling2D(pool_size=(2,2)))\n",
    "\n",
    "model.add(Conv2D(64, (3,3)))\n",
    "model.add(Activation('relu'))\n",
    "model.add(MaxPooling2D(pool_size=(2,2)))\n",
    "\n",
    "model.add(Flatten())\n",
    "model.add(Dense(64))\n",
    "model.add(Activation('relu'))\n",
    "\n",
    "model.add(Dense(1))\n",
    "model.add(Activation(\"sigmoid\"))\n",
    "\n",
    "tensorboard = TensorBoard(log_dir=\"logs/{}\".format(NAME))\n",
    "\n",
    "model.compile(loss=\"binary_crossentropy\", \n",
    "              optimizer=\"adam\", \n",
    "              metrics=['accuracy'])\n",
    "\n",
    "model.fit(X, y, batch_size=32, epochs=10, validation_split=0.3, callbacks=[tensorboard])\n",
    "\n",
    "model.save(\"Dros-vs-fish-CNNx2\")"
   ]
  },
  {
   "cell_type": "code",
   "execution_count": null,
   "metadata": {},
   "outputs": [],
   "source": []
  }
 ],
 "metadata": {
  "kernelspec": {
   "display_name": "Python 3",
   "language": "python",
   "name": "python3"
  },
  "language_info": {
   "codemirror_mode": {
    "name": "ipython",
    "version": 3
   },
   "file_extension": ".py",
   "mimetype": "text/x-python",
   "name": "python",
   "nbconvert_exporter": "python",
   "pygments_lexer": "ipython3",
   "version": "3.6.6"
  }
 },
 "nbformat": 4,
 "nbformat_minor": 2
}
